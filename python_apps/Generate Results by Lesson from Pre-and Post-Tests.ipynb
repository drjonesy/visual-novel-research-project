{
 "cells": [
  {
   "cell_type": "code",
   "execution_count": 41,
   "metadata": {},
   "outputs": [],
   "source": [
    "import pandas as pd"
   ]
  },
  {
   "cell_type": "code",
   "execution_count": 42,
   "metadata": {},
   "outputs": [],
   "source": [
    "lesson_num = 4\n",
    "# File Paths\n",
    "pre_test_file = f'./Pre_And_Post_Tests/Lesson_{lesson_num}_Pre_Test.xlsx'\n",
    "post_test_file = f'./Pre_And_Post_Tests/Lesson_{lesson_num}_Post_Test.xlsx'\n",
    "results_file = f'./Lesson_Results/Lesson_{lesson_num}_Results.xlsx'"
   ]
  },
  {
   "cell_type": "code",
   "execution_count": 43,
   "metadata": {},
   "outputs": [],
   "source": [
    "df_pre = pd.read_excel(pre_test_file)\n",
    "df_post = pd.read_excel(post_test_file)"
   ]
  },
  {
   "cell_type": "code",
   "execution_count": 44,
   "metadata": {},
   "outputs": [],
   "source": [
    "df_pre = df_pre[['Email Address', 'Score']]\n",
    "df_pre = df_pre.rename(columns={'Email Address': 'Email_Address', 'Score': 'Pre_Test_Score'})\n",
    "df_pre = df_pre.drop_duplicates(subset=['Email_Address'])\n",
    "df_pre = df_pre.sort_values(by=['Email_Address'])\n",
    "df_pre = df_pre.reset_index(drop=True)"
   ]
  },
  {
   "cell_type": "code",
   "execution_count": 45,
   "metadata": {},
   "outputs": [],
   "source": [
    "df_post = df_post[['Email Address', 'Score']]\n",
    "df_post = df_post.rename(columns={'Email Address': 'Email_Address', 'Score': 'Post_Test_Score'})\n",
    "df_post = df_post.drop_duplicates(subset=['Email_Address'])\n",
    "df_post = df_post.sort_values(by=['Email_Address'])\n",
    "df_post = df_post.reset_index(drop=True)"
   ]
  },
  {
   "cell_type": "code",
   "execution_count": 46,
   "metadata": {},
   "outputs": [],
   "source": [
    "df_scores = pd.merge(df_pre, df_post, on='Email_Address')\n",
    "df_scores['Score_Diff'] = df_scores['Post_Test_Score'] - df_scores['Pre_Test_Score']\n",
    "list_of_students = df_scores.to_dict(orient='records')\n",
    "# Define Effect for Score\n",
    "for student in list_of_students:\n",
    "    if student['Score_Diff'] > 0: student['Effect'] = 'Positive'\n",
    "    if student['Score_Diff'] < 0: student['Effect'] = 'Negative'\n",
    "    if student['Score_Diff'] == 0: student['Effect'] = 'Neutral'\n",
    "    student['Completed_Challenge'] = 'Yes'\n",
    "    student['Challenge_On_Time'] = 'True'\n",
    "\n",
    "# Define Measured Effect\n",
    "for student in list_of_students:\n",
    "    if student['Effect'] == 'Positive' and student['Challenge_On_Time'] == 'True': \n",
    "        student['Measured_Effect'] = 'Yes'\n",
    "        student['Measured_Effect_Type'] = 'Positive'\n",
    "    elif student['Effect'] == 'Negative' and student['Challenge_On_Time'] == 'False':\n",
    "        student['Measured_Effect'] = 'Yes'\n",
    "        student['Measured_Effect_Type'] = 'Negative'\n",
    "    else:\n",
    "        student['Measured_Effect'] = 'No'\n",
    "        student['Measured_Effect_Type'] = 'None'"
   ]
  },
  {
   "cell_type": "code",
   "execution_count": 47,
   "metadata": {},
   "outputs": [],
   "source": [
    "df_scores = pd.DataFrame(list_of_students, columns=['Email_Address', 'Pre_Test_Score', 'Post_Test_Score', 'Score_Diff', 'Effect', 'Completed_Challenge', 'Challenge_On_Time', 'Measured_Effect','Measured_Effect_Type'])\n",
    "df_results =  df_scores.rename(columns={'Email_Address': 'Student Email', 'Pre_Test_Score': 'Pre-Test', 'Post_Test_Score': 'Post-Test', 'Score_Diff': 'Score Difference', 'Effect' : 'Score Effect', 'Completed_Challenge': 'Completed Challenge', 'Challenge_On_Time': 'On Time', 'Measured_Effect': 'Measured Effect', 'Measured_Effect_Type': 'Measured Effect Type'})"
   ]
  },
  {
   "cell_type": "code",
   "execution_count": 48,
   "metadata": {},
   "outputs": [],
   "source": [
    "df_results.to_excel(results_file, index=False)"
   ]
  },
  {
   "cell_type": "code",
   "execution_count": null,
   "metadata": {},
   "outputs": [],
   "source": []
  }
 ],
 "metadata": {
  "kernelspec": {
   "display_name": "Python 3 (ipykernel)",
   "language": "python",
   "name": "python3"
  },
  "language_info": {
   "codemirror_mode": {
    "name": "ipython",
    "version": 3
   },
   "file_extension": ".py",
   "mimetype": "text/x-python",
   "name": "python",
   "nbconvert_exporter": "python",
   "pygments_lexer": "ipython3",
   "version": "3.7.15"
  }
 },
 "nbformat": 4,
 "nbformat_minor": 2
}
