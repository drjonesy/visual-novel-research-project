{
 "cells": [
  {
   "cell_type": "code",
   "execution_count": 7,
   "id": "2c7a171f",
   "metadata": {},
   "outputs": [],
   "source": [
    "import pandas as pd\n",
    "import os\n",
    "import secrets"
   ]
  },
  {
   "cell_type": "code",
   "execution_count": 8,
   "id": "2735fdc0",
   "metadata": {},
   "outputs": [],
   "source": [
    "dir_in = './Lesson_Results_Consented/'\n",
    "dir_out = './Encoded_Results/'\n",
    "lesson = 1\n",
    "secret_list = []\n",
    "\n",
    "for filename in os.listdir(dir_in):\n",
    "    filepath_read = os.path.join(dir_in, filename)\n",
    "    df = pd.read_excel(filepath_read)\n",
    "    \n",
    "    # Remove columns\n",
    "    df.drop(columns=['Child_First_Name', 'Child_Last_Name'], inplace=True)\n",
    "    # convert each email address to a random number\n",
    "    # store that random number in a list and make sure there are no duplicates\n",
    "    # -1 to ignore totals row\n",
    "    for i in range(0, len(df['Student Email'])-1):\n",
    "        while True:\n",
    "            new_secret = secrets.token_hex(4)\n",
    "            if new_secret not in secret_list:\n",
    "                df.at[i, 'Student Email'] = secrets.token_hex(4)\n",
    "                secret_list.append(new_secret)\n",
    "                break\n",
    "    \n",
    "    # Change the Last Value NaN in the Email Column to the value of 'Calculations'\n",
    "    df.at[len(df.index)-1, 'Student Email'] = 'Calculations'\n",
    "    # Change first column to Student\n",
    "    df.rename(columns={'Student Email': 'Student'}, inplace=True)\n",
    "    \n",
    "    # write data to file\n",
    "    filename_encoded = filename.split('.')[0] + '_Encoded.xlsx'\n",
    "    filepath_write = os.path.join(dir_out, filename_encoded)\n",
    "    df.to_excel(filepath_write, index=False)\n",
    "    \n",
    "    # clear out secret_list\n",
    "    secret_list = []\n",
    "    "
   ]
  },
  {
   "cell_type": "code",
   "execution_count": 3,
   "id": "bc07c3cf",
   "metadata": {},
   "outputs": [],
   "source": []
  }
 ],
 "metadata": {
  "kernelspec": {
   "display_name": "Python 3 (ipykernel)",
   "language": "python",
   "name": "python3"
  },
  "language_info": {
   "codemirror_mode": {
    "name": "ipython",
    "version": 3
   },
   "file_extension": ".py",
   "mimetype": "text/x-python",
   "name": "python",
   "nbconvert_exporter": "python",
   "pygments_lexer": "ipython3",
   "version": "3.7.15"
  }
 },
 "nbformat": 4,
 "nbformat_minor": 5
}
