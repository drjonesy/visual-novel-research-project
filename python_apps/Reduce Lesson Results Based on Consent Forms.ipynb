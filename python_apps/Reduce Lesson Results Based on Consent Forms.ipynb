{
 "cells": [
  {
   "cell_type": "code",
   "execution_count": 1,
   "id": "ec9bb999",
   "metadata": {},
   "outputs": [],
   "source": [
    "import pandas as pd"
   ]
  },
  {
   "cell_type": "code",
   "execution_count": 2,
   "id": "77caf416",
   "metadata": {},
   "outputs": [],
   "source": [
    "# functions\n",
    "def effect_type(value):\n",
    "    if value > 0: return 'Positive'\n",
    "    if value < 0: return 'Negative'\n",
    "    if value == 0: return 'Neutral'\n",
    "\n",
    "# returns a tuple\n",
    "def measured_effect_and_type(score_effect, on_time):\n",
    "    if score_effect == 'Positive' and on_time == True: return 'Yes', 'Positive'\n",
    "    elif score_effect == 'Negative' and on_time == False: return 'Yes', 'Negative'\n",
    "    else:\n",
    "        return 'No', 'None'"
   ]
  },
  {
   "cell_type": "code",
   "execution_count": 3,
   "id": "47260f82",
   "metadata": {},
   "outputs": [],
   "source": [
    "lesson_num = 4\n",
    "# file paths\n",
    "parent_child_consent_form_file = './Parent_And_Child_Conent_Forms_Merged.xlsx'\n",
    "lesson_form_file = f'./Lesson_Results/Lesson_{lesson_num}_Results.xlsx'\n",
    "lesson_results_consented_file = f'./Lesson_Results_Consented/Lesson_{lesson_num}_Results_Consented.xlsx'"
   ]
  },
  {
   "cell_type": "code",
   "execution_count": 4,
   "id": "5eca560e",
   "metadata": {},
   "outputs": [],
   "source": [
    "df_consent_form = pd.read_excel(parent_child_consent_form_file)\n",
    "df_lesson = pd.read_excel(lesson_form_file)"
   ]
  },
  {
   "cell_type": "code",
   "execution_count": 5,
   "id": "ea120581",
   "metadata": {},
   "outputs": [],
   "source": [
    "df_consent_form = df_consent_form[['PG_First_Name', 'PG_Last_Name', 'Child_First_Name', 'Child_Last_Name', 'Child_Email']]\n",
    "df_consent_form = df_consent_form.drop_duplicates(subset=['Child_Email'])\n",
    "df_consent_form = df_consent_form.sort_values(by=['Child_Email'])\n",
    "df_consent_form = df_consent_form.reset_index(drop=True)"
   ]
  },
  {
   "cell_type": "code",
   "execution_count": 6,
   "id": "06bc1488",
   "metadata": {},
   "outputs": [],
   "source": [
    "df_lesson_consented = df_consent_form.merge(df_lesson, how='inner', left_on='Child_Email', right_on='Student Email')"
   ]
  },
  {
   "cell_type": "code",
   "execution_count": 7,
   "id": "ba4a9a3b",
   "metadata": {},
   "outputs": [],
   "source": [
    "df_lesson_consented.drop(['PG_First_Name', 'PG_Last_Name', 'Child_Email'], axis=1, inplace=True)"
   ]
  },
  {
   "cell_type": "code",
   "execution_count": 8,
   "id": "5aa4a462",
   "metadata": {},
   "outputs": [],
   "source": [
    "# build Totals / Last Row"
   ]
  },
  {
   "cell_type": "code",
   "execution_count": 9,
   "id": "d15b9920",
   "metadata": {},
   "outputs": [],
   "source": [
    "# create new data frame with existing column names. Convert to Index Dictionary.\n",
    "df_totals = pd.DataFrame(columns=df_lesson_consented.columns.values.tolist())\n",
    "df_totals.loc[0] = ''\n",
    "dict_totals = df_totals.to_dict(orient='index')\n",
    "\n",
    "# Populate Totals Row\n",
    "dict_totals[0]['Pre-Test'] = df_lesson_consented['Pre-Test'].mean(axis=0, skipna=True).round(decimals=2)\n",
    "dict_totals[0]['Post-Test'] = df_lesson_consented['Post-Test'].mean(axis=0, skipna=True).round(decimals=2)\n",
    "dict_totals[0]['Score Difference'] = dict_totals[0]['Post-Test'] - dict_totals[0]['Pre-Test']\n",
    "dict_totals[0]['Score Effect'] = effect_type(dict_totals[0]['Score Difference'])\n",
    "dict_totals[0]['Completed Challenge'] = df_lesson_consented['Completed Challenge'].mode(dropna=True)[0]\n",
    "dict_totals[0]['On Time'] = df_lesson_consented['On Time'].mode(dropna=True)[0]\n",
    "dict_totals[0]['Measured Effect'] = measured_effect_and_type(dict_totals[0]['Score Effect'], dict_totals[0]['On Time'])[0]\n",
    "dict_totals[0]['Measured Effect Type'] = measured_effect_and_type(dict_totals[0]['Score Effect'], dict_totals[0]['On Time'])[1]\n",
    "\n",
    "# create an additional row and insert dictionary data\n",
    "df_lesson_consented.loc[len(df_lesson_consented.index)] = dict_totals[0]"
   ]
  },
  {
   "cell_type": "code",
   "execution_count": 10,
   "id": "929fc091",
   "metadata": {},
   "outputs": [],
   "source": [
    "# df_lesson_consented\n",
    "df_lesson_consented.to_excel(lesson_results_consented_file, index=False)"
   ]
  },
  {
   "cell_type": "code",
   "execution_count": null,
   "id": "53ac5c32",
   "metadata": {},
   "outputs": [],
   "source": []
  }
 ],
 "metadata": {
  "kernelspec": {
   "display_name": "Python 3 (ipykernel)",
   "language": "python",
   "name": "python3"
  },
  "language_info": {
   "codemirror_mode": {
    "name": "ipython",
    "version": 3
   },
   "file_extension": ".py",
   "mimetype": "text/x-python",
   "name": "python",
   "nbconvert_exporter": "python",
   "pygments_lexer": "ipython3",
   "version": "3.7.15"
  }
 },
 "nbformat": 4,
 "nbformat_minor": 5
}
