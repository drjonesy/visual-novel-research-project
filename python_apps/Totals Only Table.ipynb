{
 "cells": [
  {
   "cell_type": "code",
   "execution_count": 4,
   "id": "25a4127a",
   "metadata": {},
   "outputs": [],
   "source": [
    "import pandas as pd\n",
    "import os"
   ]
  },
  {
   "cell_type": "code",
   "execution_count": 5,
   "id": "edc8d863",
   "metadata": {},
   "outputs": [],
   "source": [
    "# read in file with only last row\n",
    "# Remove Columns: 'Child_First_Name', 'Child_Last_Name', 'Student_Email' \n",
    "# Create a New Column in the front called: 'Lesson' and assign the lesson number\n",
    "# create index dictionary\n",
    "# Store each of the lessons in the dictionary\n",
    "# convert dictionary to DataFrame\n",
    "# Save DataFrame to File"
   ]
  },
  {
   "cell_type": "code",
   "execution_count": 6,
   "id": "00f58d85",
   "metadata": {},
   "outputs": [],
   "source": [
    "path = './Lesson_Results_Consented/'\n",
    "file_save_path = './Encoded_Results/Lesson_Totals_Only.xlsx'\n",
    "lesson = 1\n",
    "lessons_list = []\n",
    "\n",
    "for filename in os.listdir(path):\n",
    "    filepath = os.path.join(path, filename)\n",
    "    df = pd.read_excel(filepath)\n",
    "    df.drop(columns=['Child_First_Name', 'Child_Last_Name', 'Student Email'], inplace=True)\n",
    "    df.insert(0, 'Lesson', lesson)\n",
    "    lesson_dict = df.iloc[-1].to_dict()\n",
    "    lessons_list.append(lesson_dict)\n",
    "    lesson += 1\n",
    "\n",
    "\n",
    "df_lessons = pd.DataFrame.from_dict(data=lessons_list) \n",
    "\n",
    "df_lessons.to_excel(file_save_path, index=False)\n"
   ]
  },
  {
   "cell_type": "code",
   "execution_count": null,
   "id": "04df8f89",
   "metadata": {},
   "outputs": [],
   "source": []
  }
 ],
 "metadata": {
  "kernelspec": {
   "display_name": "Python 3 (ipykernel)",
   "language": "python",
   "name": "python3"
  },
  "language_info": {
   "codemirror_mode": {
    "name": "ipython",
    "version": 3
   },
   "file_extension": ".py",
   "mimetype": "text/x-python",
   "name": "python",
   "nbconvert_exporter": "python",
   "pygments_lexer": "ipython3",
   "version": "3.7.15"
  }
 },
 "nbformat": 4,
 "nbformat_minor": 5
}
